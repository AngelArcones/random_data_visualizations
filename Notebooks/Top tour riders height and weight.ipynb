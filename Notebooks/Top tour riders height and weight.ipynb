{
 "cells": [
  {
   "cell_type": "markdown",
   "metadata": {},
   "source": [
    "# Height and Weight of top riders in the Tour de France"
   ]
  },
  {
   "cell_type": "markdown",
   "metadata": {},
   "source": [
    "### How big is too big? The leaner the better?\n",
    "\n",
    "The idea of this visualization is to see if there is a predomintant body-type among the riders reaching the podium of the biggest cycling event of the year, the Tour de France.    \n",
    "  \n",
    "\n",
    "  \n",
    "**For a bit of context**  \n",
    "\n",
    "The Tour is the most important cycling race in the world, and it consists on 21 stage across differente terrains (flat, hilly, mountain) and different type of stages (time trials, mountain top finishes). The general classification is computed by adding the time of each stage for each rider. Time differences between riders usually occur in mountain stages and time trials \n",
    "In general, taller and heavier riders are more powerful when rolling in flat, which gives them advantage in time trials, especially over long courses (>30km). On the other hand, climbers are usually shorter and lighter, allowing them to go uphill faster than their heavier competitors when crossing the Alps and Pyrenees.    \n",
    "  \n",
    "  \n",
    "  \n",
    "**So what is the ideal body type?**\n",
    "\n",
    "Is it better to be a short and skinny climber? or a big guy rolling full gas on time trials? or somewhere inbetween?\n",
    "The expected answer is: *there is no recipe for success*  \n",
    "After all, the course, the type of dominant riders, the strategies, the equipement... everything has changed through the years.  \n",
    "But I'll make this visualization anyway. Just for fun."
   ]
  },
  {
   "cell_type": "markdown",
   "metadata": {},
   "source": [
    "### Load the packages"
   ]
  },
  {
   "cell_type": "code",
   "execution_count": 1,
   "metadata": {
    "collapsed": true
   },
   "outputs": [
    {
     "name": "stderr",
     "output_type": "stream",
     "text": [
      "Warning message:\n",
      "\"package 'rvest' was built under R version 3.5.3\"\n",
      "Loading required package: xml2\n",
      "\n",
      "Warning message:\n",
      "\"package 'xml2' was built under R version 3.5.3\"\n",
      "Warning message:\n",
      "\"package 'tidyverse' was built under R version 3.5.3\"\n",
      "-- \u001b[1mAttaching packages\u001b[22m --------------------------------------- tidyverse 1.3.0 --\n",
      "\n",
      "\u001b[32mv\u001b[39m \u001b[34mggplot2\u001b[39m 3.2.1     \u001b[32mv\u001b[39m \u001b[34mpurrr  \u001b[39m 0.3.3\n",
      "\u001b[32mv\u001b[39m \u001b[34mtibble \u001b[39m 3.0.1     \u001b[32mv\u001b[39m \u001b[34mdplyr  \u001b[39m 0.8.5\n",
      "\u001b[32mv\u001b[39m \u001b[34mtidyr  \u001b[39m 1.0.0     \u001b[32mv\u001b[39m \u001b[34mstringr\u001b[39m 1.4.0\n",
      "\u001b[32mv\u001b[39m \u001b[34mreadr  \u001b[39m 1.3.1     \u001b[32mv\u001b[39m \u001b[34mforcats\u001b[39m 0.4.0\n",
      "\n",
      "Warning message:\n",
      "\"package 'ggplot2' was built under R version 3.5.3\"\n",
      "Warning message:\n",
      "\"package 'tibble' was built under R version 3.5.3\"\n",
      "Warning message:\n",
      "\"package 'tidyr' was built under R version 3.5.3\"\n",
      "Warning message:\n",
      "\"package 'readr' was built under R version 3.5.3\"\n",
      "Warning message:\n",
      "\"package 'purrr' was built under R version 3.5.3\"\n",
      "Warning message:\n",
      "\"package 'dplyr' was built under R version 3.5.3\"\n",
      "Warning message:\n",
      "\"package 'stringr' was built under R version 3.5.3\"\n",
      "Warning message:\n",
      "\"package 'forcats' was built under R version 3.5.3\"\n",
      "-- \u001b[1mConflicts\u001b[22m ------------------------------------------ tidyverse_conflicts() --\n",
      "\u001b[31mx\u001b[39m \u001b[34mdplyr\u001b[39m::\u001b[32mfilter()\u001b[39m         masks \u001b[34mstats\u001b[39m::filter()\n",
      "\u001b[31mx\u001b[39m \u001b[34mreadr\u001b[39m::\u001b[32mguess_encoding()\u001b[39m masks \u001b[34mrvest\u001b[39m::guess_encoding()\n",
      "\u001b[31mx\u001b[39m \u001b[34mdplyr\u001b[39m::\u001b[32mlag()\u001b[39m            masks \u001b[34mstats\u001b[39m::lag()\n",
      "\u001b[31mx\u001b[39m \u001b[34mpurrr\u001b[39m::\u001b[32mpluck()\u001b[39m          masks \u001b[34mrvest\u001b[39m::pluck()\n",
      "\n",
      "Warning message:\n",
      "\"package 'gganimate' was built under R version 3.5.3\"\n"
     ]
    }
   ],
   "source": [
    "library(rvest) #for data scrapping\n",
    "library(tidyverse) #for data management and visualization\n",
    "library(gganimate) #to add the final(interactive) plot twist"
   ]
  },
  {
   "cell_type": "markdown",
   "metadata": {},
   "source": [
    "### Get the historic podium data\n",
    "\n",
    "Data is collected from the [results page](https://www.procyclingstats.com/race/tour-de-france/2020/gc/history) of the Tour de France in Pro Cycling Stats.  \n",
    "\n",
    "This will be the guide to collect data from each rider later."
   ]
  },
  {
   "cell_type": "code",
   "execution_count": 3,
   "metadata": {},
   "outputs": [
    {
     "data": {
      "text/html": [
       "<table>\n",
       "<caption>A data.frame: 15 × 4</caption>\n",
       "<thead>\n",
       "\t<tr><th scope=col>year</th><th scope=col>1st</th><th scope=col>2nd</th><th scope=col>3rd</th></tr>\n",
       "\t<tr><th scope=col>&lt;fct&gt;</th><th scope=col>&lt;fct&gt;</th><th scope=col>&lt;fct&gt;</th><th scope=col>&lt;fct&gt;</th></tr>\n",
       "</thead>\n",
       "<tbody>\n",
       "\t<tr><td>2019</td><td> Bernal Egan                     </td><td> Thomas Geraint                </td><td> Kruijswijk Steven                     </td></tr>\n",
       "\t<tr><td>2018</td><td> Thomas Geraint                  </td><td> Dumoulin Tom                  </td><td> Froome Chris                          </td></tr>\n",
       "\t<tr><td>2017</td><td> Froome Chris                    </td><td> Urán Rigoberto                </td><td> Bardet Romain                         </td></tr>\n",
       "\t<tr><td>2016</td><td> Froome Chris                    </td><td> Bardet Romain                 </td><td> Quintana Nairo                        </td></tr>\n",
       "\t<tr><td>2015</td><td> Froome Chris                    </td><td> Quintana Nairo                </td><td> Valverde Alejandro                    </td></tr>\n",
       "\t<tr><td>2014</td><td> Nibali Vincenzo                 </td><td> Peraud Jean-Christophe        </td><td> Pinot Thibaut                         </td></tr>\n",
       "\t<tr><td>2013</td><td> Froome Chris                    </td><td> Quintana Nairo                </td><td> Rodríguez Joaquim                     </td></tr>\n",
       "\t<tr><td>2012</td><td> Wiggins Bradley                 </td><td> Froome Chris                  </td><td> Nibali Vincenzo                       </td></tr>\n",
       "\t<tr><td>2011</td><td> Evans Cadel                     </td><td> Schleck Andy                  </td><td> Schleck Fränk                         </td></tr>\n",
       "\t<tr><td>2010</td><td> Contador Alberto* [Schleck Andy]</td><td> Schleck Andy [Sánchez Samuel] </td><td> Menchov Denis* [Van den Broeck Jurgen]</td></tr>\n",
       "\t<tr><td>2009</td><td> Contador Alberto                </td><td> Schleck Andy                  </td><td> Armstrong Lance* [Wiggins Bradley]    </td></tr>\n",
       "\t<tr><td>2008</td><td> Sastre Carlos                   </td><td> Evans Cadel                   </td><td> Kohl Bernhard* [Menchov Denis]        </td></tr>\n",
       "\t<tr><td>2007</td><td> Contador Alberto                </td><td> Evans Cadel                   </td><td> Leipheimer Levi*                      </td></tr>\n",
       "\t<tr><td>2006</td><td> Landis Floyd* [Pereiro Óscar]   </td><td> Pereiro Óscar [Klöden Andreas]</td><td> Klöden Andreas [Sastre Carlos]        </td></tr>\n",
       "\t<tr><td>2005</td><td> Armstrong Lance*                </td><td> Basso Ivan                    </td><td> Ullrich Jan                           </td></tr>\n",
       "</tbody>\n",
       "</table>\n"
      ],
      "text/latex": [
       "A data.frame: 15 × 4\n",
       "\\begin{tabular}{r|llll}\n",
       " year & 1st & 2nd & 3rd\\\\\n",
       " <fct> & <fct> & <fct> & <fct>\\\\\n",
       "\\hline\n",
       "\t 2019 &  Bernal Egan                      &  Thomas Geraint                 &  Kruijswijk Steven                     \\\\\n",
       "\t 2018 &  Thomas Geraint                   &  Dumoulin Tom                   &  Froome Chris                          \\\\\n",
       "\t 2017 &  Froome Chris                     &  Urán Rigoberto                 &  Bardet Romain                         \\\\\n",
       "\t 2016 &  Froome Chris                     &  Bardet Romain                  &  Quintana Nairo                        \\\\\n",
       "\t 2015 &  Froome Chris                     &  Quintana Nairo                 &  Valverde Alejandro                    \\\\\n",
       "\t 2014 &  Nibali Vincenzo                  &  Peraud Jean-Christophe         &  Pinot Thibaut                         \\\\\n",
       "\t 2013 &  Froome Chris                     &  Quintana Nairo                 &  Rodríguez Joaquim                     \\\\\n",
       "\t 2012 &  Wiggins Bradley                  &  Froome Chris                   &  Nibali Vincenzo                       \\\\\n",
       "\t 2011 &  Evans Cadel                      &  Schleck Andy                   &  Schleck Fränk                         \\\\\n",
       "\t 2010 &  Contador Alberto* {[}Schleck Andy{]} &  Schleck Andy {[}Sánchez Samuel{]}  &  Menchov Denis* {[}Van den Broeck Jurgen{]}\\\\\n",
       "\t 2009 &  Contador Alberto                 &  Schleck Andy                   &  Armstrong Lance* {[}Wiggins Bradley{]}    \\\\\n",
       "\t 2008 &  Sastre Carlos                    &  Evans Cadel                    &  Kohl Bernhard* {[}Menchov Denis{]}        \\\\\n",
       "\t 2007 &  Contador Alberto                 &  Evans Cadel                    &  Leipheimer Levi*                      \\\\\n",
       "\t 2006 &  Landis Floyd* {[}Pereiro Óscar{]}    &  Pereiro Óscar {[}Klöden Andreas{]} &  Klöden Andreas {[}Sastre Carlos{]}        \\\\\n",
       "\t 2005 &  Armstrong Lance*                 &  Basso Ivan                     &  Ullrich Jan                           \\\\\n",
       "\\end{tabular}\n"
      ],
      "text/markdown": [
       "\n",
       "A data.frame: 15 × 4\n",
       "\n",
       "| year &lt;fct&gt; | 1st &lt;fct&gt; | 2nd &lt;fct&gt; | 3rd &lt;fct&gt; |\n",
       "|---|---|---|---|\n",
       "| 2019 |  Bernal Egan                      |  Thomas Geraint                 |  Kruijswijk Steven                      |\n",
       "| 2018 |  Thomas Geraint                   |  Dumoulin Tom                   |  Froome Chris                           |\n",
       "| 2017 |  Froome Chris                     |  Urán Rigoberto                 |  Bardet Romain                          |\n",
       "| 2016 |  Froome Chris                     |  Bardet Romain                  |  Quintana Nairo                         |\n",
       "| 2015 |  Froome Chris                     |  Quintana Nairo                 |  Valverde Alejandro                     |\n",
       "| 2014 |  Nibali Vincenzo                  |  Peraud Jean-Christophe         |  Pinot Thibaut                          |\n",
       "| 2013 |  Froome Chris                     |  Quintana Nairo                 |  Rodríguez Joaquim                      |\n",
       "| 2012 |  Wiggins Bradley                  |  Froome Chris                   |  Nibali Vincenzo                        |\n",
       "| 2011 |  Evans Cadel                      |  Schleck Andy                   |  Schleck Fränk                          |\n",
       "| 2010 |  Contador Alberto* [Schleck Andy] |  Schleck Andy [Sánchez Samuel]  |  Menchov Denis* [Van den Broeck Jurgen] |\n",
       "| 2009 |  Contador Alberto                 |  Schleck Andy                   |  Armstrong Lance* [Wiggins Bradley]     |\n",
       "| 2008 |  Sastre Carlos                    |  Evans Cadel                    |  Kohl Bernhard* [Menchov Denis]         |\n",
       "| 2007 |  Contador Alberto                 |  Evans Cadel                    |  Leipheimer Levi*                       |\n",
       "| 2006 |  Landis Floyd* [Pereiro Óscar]    |  Pereiro Óscar [Klöden Andreas] |  Klöden Andreas [Sastre Carlos]         |\n",
       "| 2005 |  Armstrong Lance*                 |  Basso Ivan                     |  Ullrich Jan                            |\n",
       "\n"
      ],
      "text/plain": [
       "   year 1st                               2nd                            \n",
       "1  2019  Bernal Egan                       Thomas Geraint                \n",
       "2  2018  Thomas Geraint                    Dumoulin Tom                  \n",
       "3  2017  Froome Chris                      Urán Rigoberto                \n",
       "4  2016  Froome Chris                      Bardet Romain                 \n",
       "5  2015  Froome Chris                      Quintana Nairo                \n",
       "6  2014  Nibali Vincenzo                   Peraud Jean-Christophe        \n",
       "7  2013  Froome Chris                      Quintana Nairo                \n",
       "8  2012  Wiggins Bradley                   Froome Chris                  \n",
       "9  2011  Evans Cadel                       Schleck Andy                  \n",
       "10 2010  Contador Alberto* [Schleck Andy]  Schleck Andy [Sánchez Samuel] \n",
       "11 2009  Contador Alberto                  Schleck Andy                  \n",
       "12 2008  Sastre Carlos                     Evans Cadel                   \n",
       "13 2007  Contador Alberto                  Evans Cadel                   \n",
       "14 2006  Landis Floyd* [Pereiro Óscar]     Pereiro Óscar [Klöden Andreas]\n",
       "15 2005  Armstrong Lance*                  Basso Ivan                    \n",
       "   3rd                                    \n",
       "1   Kruijswijk Steven                     \n",
       "2   Froome Chris                          \n",
       "3   Bardet Romain                         \n",
       "4   Quintana Nairo                        \n",
       "5   Valverde Alejandro                    \n",
       "6   Pinot Thibaut                         \n",
       "7   Rodríguez Joaquim                     \n",
       "8   Nibali Vincenzo                       \n",
       "9   Schleck Fränk                         \n",
       "10  Menchov Denis* [Van den Broeck Jurgen]\n",
       "11  Armstrong Lance* [Wiggins Bradley]    \n",
       "12  Kohl Bernhard* [Menchov Denis]        \n",
       "13  Leipheimer Levi*                      \n",
       "14  Klöden Andreas [Sastre Carlos]        \n",
       "15  Ullrich Jan                           "
      ]
     },
     "metadata": {},
     "output_type": "display_data"
    }
   ],
   "source": [
    "# Get the data from the web, process the html into text and then a DataFrame\n",
    "\n",
    "tour <- \"https://www.procyclingstats.com/race/tour-de-france/2020/gc/history\"\n",
    "tour_html <- read_html(tour)\n",
    "tour_data <- html_text(html_nodes(tour_html, 'td')) %>% strsplit(\"\\t\") #from html to text\n",
    "tour_df <- unlist(tour_data[-(1:4)]) %>%\n",
    "            matrix(ncol=4, byrow=TRUE) %>%            #from text to a data frame\n",
    "            data.frame()\n",
    "colnames(tour_df) <- c(\"year\", \"1st\", \"2nd\", \"3rd\")\n",
    "head(tour_df, 15) # Check the results for the past 15 years as sample"
   ]
  },
  {
   "cell_type": "markdown",
   "metadata": {},
   "source": [
    "Now, I need to convert it from wide DataFrame to long DataFrame, with proper column names and everything in lower case for the future"
   ]
  },
  {
   "cell_type": "code",
   "execution_count": 9,
   "metadata": {},
   "outputs": [
    {
     "data": {
      "text/html": [
       "<table>\n",
       "<caption>A tibble: 12 × 3</caption>\n",
       "<thead>\n",
       "\t<tr><th scope=col>year</th><th scope=col>position</th><th scope=col>rider</th></tr>\n",
       "\t<tr><th scope=col>&lt;fct&gt;</th><th scope=col>&lt;chr&gt;</th><th scope=col>&lt;chr&gt;</th></tr>\n",
       "</thead>\n",
       "<tbody>\n",
       "\t<tr><td>2019</td><td>1st</td><td> bernal egan      </td></tr>\n",
       "\t<tr><td>2019</td><td>2nd</td><td> thomas geraint   </td></tr>\n",
       "\t<tr><td>2019</td><td>3rd</td><td> kruijswijk steven</td></tr>\n",
       "\t<tr><td>2018</td><td>1st</td><td> thomas geraint   </td></tr>\n",
       "\t<tr><td>2018</td><td>2nd</td><td> dumoulin tom     </td></tr>\n",
       "\t<tr><td>2018</td><td>3rd</td><td> froome chris     </td></tr>\n",
       "\t<tr><td>2017</td><td>1st</td><td> froome chris     </td></tr>\n",
       "\t<tr><td>2017</td><td>2nd</td><td> urán rigoberto   </td></tr>\n",
       "\t<tr><td>2017</td><td>3rd</td><td> bardet romain    </td></tr>\n",
       "\t<tr><td>2016</td><td>1st</td><td> froome chris     </td></tr>\n",
       "\t<tr><td>2016</td><td>2nd</td><td> bardet romain    </td></tr>\n",
       "\t<tr><td>2016</td><td>3rd</td><td> quintana nairo   </td></tr>\n",
       "</tbody>\n",
       "</table>\n"
      ],
      "text/latex": [
       "A tibble: 12 × 3\n",
       "\\begin{tabular}{r|lll}\n",
       " year & position & rider\\\\\n",
       " <fct> & <chr> & <chr>\\\\\n",
       "\\hline\n",
       "\t 2019 & 1st &  bernal egan      \\\\\n",
       "\t 2019 & 2nd &  thomas geraint   \\\\\n",
       "\t 2019 & 3rd &  kruijswijk steven\\\\\n",
       "\t 2018 & 1st &  thomas geraint   \\\\\n",
       "\t 2018 & 2nd &  dumoulin tom     \\\\\n",
       "\t 2018 & 3rd &  froome chris     \\\\\n",
       "\t 2017 & 1st &  froome chris     \\\\\n",
       "\t 2017 & 2nd &  urán rigoberto   \\\\\n",
       "\t 2017 & 3rd &  bardet romain    \\\\\n",
       "\t 2016 & 1st &  froome chris     \\\\\n",
       "\t 2016 & 2nd &  bardet romain    \\\\\n",
       "\t 2016 & 3rd &  quintana nairo   \\\\\n",
       "\\end{tabular}\n"
      ],
      "text/markdown": [
       "\n",
       "A tibble: 12 × 3\n",
       "\n",
       "| year &lt;fct&gt; | position &lt;chr&gt; | rider &lt;chr&gt; |\n",
       "|---|---|---|\n",
       "| 2019 | 1st |  bernal egan       |\n",
       "| 2019 | 2nd |  thomas geraint    |\n",
       "| 2019 | 3rd |  kruijswijk steven |\n",
       "| 2018 | 1st |  thomas geraint    |\n",
       "| 2018 | 2nd |  dumoulin tom      |\n",
       "| 2018 | 3rd |  froome chris      |\n",
       "| 2017 | 1st |  froome chris      |\n",
       "| 2017 | 2nd |  urán rigoberto    |\n",
       "| 2017 | 3rd |  bardet romain     |\n",
       "| 2016 | 1st |  froome chris      |\n",
       "| 2016 | 2nd |  bardet romain     |\n",
       "| 2016 | 3rd |  quintana nairo    |\n",
       "\n"
      ],
      "text/plain": [
       "   year position rider             \n",
       "1  2019 1st       bernal egan      \n",
       "2  2019 2nd       thomas geraint   \n",
       "3  2019 3rd       kruijswijk steven\n",
       "4  2018 1st       thomas geraint   \n",
       "5  2018 2nd       dumoulin tom     \n",
       "6  2018 3rd       froome chris     \n",
       "7  2017 1st       froome chris     \n",
       "8  2017 2nd       urán rigoberto   \n",
       "9  2017 3rd       bardet romain    \n",
       "10 2016 1st       froome chris     \n",
       "11 2016 2nd       bardet romain    \n",
       "12 2016 3rd       quintana nairo   "
      ]
     },
     "metadata": {},
     "output_type": "display_data"
    }
   ],
   "source": [
    "tour_df_long <- pivot_longer(tour_df, -year)\n",
    "colnames(tour_df_long) <- c(\"year\", \"position\", \"rider\")\n",
    "tour_df_long$rider <- tolower(tour_df_long$rider)\n",
    "\n",
    "head(tour_df_long, 12)"
   ]
  },
  {
   "cell_type": "markdown",
   "metadata": {},
   "source": [
    "Unfortunately, cleaning the data in this case involves dealing with one of the worst parts of the cycling world: the doping.  \n",
    "\n",
    "\n",
    "Here, dirty riders (marked with \\*) are dirty data, and will be removed from the classification. When possible, they will be replaced by the rider that was officially given their spot in the podium (originally between square brackets)."
   ]
  },
  {
   "cell_type": "code",
   "execution_count": 10,
   "metadata": {},
   "outputs": [],
   "source": [
    "for(i in 1:nrow(tour_df_long)){\n",
    "  if(str_detect(tour_df_long[i,3],\"\\\\[\")){\n",
    "    \n",
    "    tour_df_long[i,3] <- sub(\".*\\\\[([^][]+)].*\", \"\\\\1\", tour_df_long[i,3])\n",
    "  }\n",
    "}"
   ]
  },
  {
   "cell_type": "markdown",
   "metadata": {},
   "source": [
    "And now, some extra cleaning of the text info (special characters, peculiarities of some names...)"
   ]
  },
  {
   "cell_type": "code",
   "execution_count": 11,
   "metadata": {},
   "outputs": [],
   "source": [
    "tour_df_long$rider <- tour_df_long$rider %>%\n",
    "  str_trim() %>% # Trim leading / trailing spaces\n",
    "  sub(\"á\", \"a\", .) %>%\n",
    "  sub(\"ä\", \"a\", .) %>%\n",
    "  sub(\"é\", \"e\", .) %>%\n",
    "  sub(\"í\", \"i\", .) %>%\n",
    "  sub(\"ï\", \"i\", .) %>%\n",
    "  sub(\"ó\", \"o\", .) %>%\n",
    "  sub(\"ö\", \"o\", .) %>%\n",
    "  sub(\"ü\", \"u\", .) %>%\n",
    "  sub(\"ñ\", \"n\", .) %>%\n",
    "  sub(\"van \", \"van-\",.) %>%\n",
    "  sub(\"-den \", \"-den-\",.) %>%\n",
    "  sub(\"-der \", \"-der-\",.) %>%\n",
    "  sub(\"de waele\", \"de-waele\",.)  #a bit of hard coding here..."
   ]
  },
  {
   "cell_type": "markdown",
   "metadata": {},
   "source": [
    "Finally, we need to change from \"surname name\" to \"name-surname\" format."
   ]
  },
  {
   "cell_type": "code",
   "execution_count": 13,
   "metadata": {},
   "outputs": [
    {
     "data": {
      "text/html": [
       "<table>\n",
       "<caption>A tibble: 6 × 3</caption>\n",
       "<thead>\n",
       "\t<tr><th scope=col>year</th><th scope=col>position</th><th scope=col>rider</th></tr>\n",
       "\t<tr><th scope=col>&lt;fct&gt;</th><th scope=col>&lt;chr&gt;</th><th scope=col>&lt;chr&gt;</th></tr>\n",
       "</thead>\n",
       "<tbody>\n",
       "\t<tr><td>2019</td><td>1st</td><td>egan-bernal      </td></tr>\n",
       "\t<tr><td>2019</td><td>2nd</td><td>geraint-thomas   </td></tr>\n",
       "\t<tr><td>2019</td><td>3rd</td><td>steven-kruijswijk</td></tr>\n",
       "\t<tr><td>2018</td><td>1st</td><td>geraint-thomas   </td></tr>\n",
       "\t<tr><td>2018</td><td>2nd</td><td>tom-dumoulin     </td></tr>\n",
       "\t<tr><td>2018</td><td>3rd</td><td>chris-froome     </td></tr>\n",
       "</tbody>\n",
       "</table>\n"
      ],
      "text/latex": [
       "A tibble: 6 × 3\n",
       "\\begin{tabular}{r|lll}\n",
       " year & position & rider\\\\\n",
       " <fct> & <chr> & <chr>\\\\\n",
       "\\hline\n",
       "\t 2019 & 1st & egan-bernal      \\\\\n",
       "\t 2019 & 2nd & geraint-thomas   \\\\\n",
       "\t 2019 & 3rd & steven-kruijswijk\\\\\n",
       "\t 2018 & 1st & geraint-thomas   \\\\\n",
       "\t 2018 & 2nd & tom-dumoulin     \\\\\n",
       "\t 2018 & 3rd & chris-froome     \\\\\n",
       "\\end{tabular}\n"
      ],
      "text/markdown": [
       "\n",
       "A tibble: 6 × 3\n",
       "\n",
       "| year &lt;fct&gt; | position &lt;chr&gt; | rider &lt;chr&gt; |\n",
       "|---|---|---|\n",
       "| 2019 | 1st | egan-bernal       |\n",
       "| 2019 | 2nd | geraint-thomas    |\n",
       "| 2019 | 3rd | steven-kruijswijk |\n",
       "| 2018 | 1st | geraint-thomas    |\n",
       "| 2018 | 2nd | tom-dumoulin      |\n",
       "| 2018 | 3rd | chris-froome      |\n",
       "\n"
      ],
      "text/plain": [
       "  year position rider            \n",
       "1 2019 1st      egan-bernal      \n",
       "2 2019 2nd      geraint-thomas   \n",
       "3 2019 3rd      steven-kruijswijk\n",
       "4 2018 1st      geraint-thomas   \n",
       "5 2018 2nd      tom-dumoulin     \n",
       "6 2018 3rd      chris-froome     "
      ]
     },
     "metadata": {},
     "output_type": "display_data"
    }
   ],
   "source": [
    "tour_df_long$rider <- paste0(str_split_fixed(tour_df_long$rider, \" \", 2)[,2], \"-\", str_split_fixed(tour_df_long$rider, \" \", 2)[,1])\n",
    "\n",
    "head(tour_df_long,6)"
   ]
  },
  {
   "cell_type": "markdown",
   "metadata": {},
   "source": [
    "Doping, second part. You always have to keep cleaning it.  \n",
    "Now, it is time to eliminate those riders that were disqualified but nobody took its place.  \n",
    "For example, this is the case of the dude who won it 7 times in a row while participating on a large and complex doping network.  \n",
    "Yeah, you know who it is. Let's not give him more press."
   ]
  },
  {
   "cell_type": "code",
   "execution_count": 14,
   "metadata": {},
   "outputs": [],
   "source": [
    "tour_df_long$rider[str_detect(tour_df_long$rider, \"\\\\*\")] <- NA"
   ]
  },
  {
   "cell_type": "markdown",
   "metadata": {},
   "source": [
    "And some more name cleaning, after finding that some peculiarities in the URL of their profiles in the web.  \n",
    "\n",
    "This is also a bit hard-coded, but whatever..."
   ]
  },
  {
   "cell_type": "code",
   "execution_count": 15,
   "metadata": {},
   "outputs": [],
   "source": [
    "tour_df_long$rider <- tour_df_long$rider %>%\n",
    "  sub(\"chris-froome\", \"christopher-froome\",.) %>%\n",
    "  sub(\"zulle\", \"zulle2\",.) %>%\n",
    "  sub(\"lopez\", \"lopez-carril\",.) %>%\n",
    "  sub(\"stopel\", \"stoepel\",.) %>%\n",
    "  sub(\"defraye\", \"defraye-1\",.) %>%\n",
    "  sub(\" \", \"-\",.)"
   ]
  },
  {
   "cell_type": "markdown",
   "metadata": {},
   "source": [
    "### Now, get the rider's data\n",
    "Also from Pro Cycling Stats, we want date of birth, height and weight.  \n",
    "\n",
    "First, DataFrame with every rider and empty of information"
   ]
  },
  {
   "cell_type": "code",
   "execution_count": 16,
   "metadata": {},
   "outputs": [
    {
     "data": {
      "text/html": [
       "<table>\n",
       "<caption>A data.frame: 10 × 4</caption>\n",
       "<thead>\n",
       "\t<tr><th scope=col>rider</th><th scope=col>birth</th><th scope=col>weight</th><th scope=col>height</th></tr>\n",
       "\t<tr><th scope=col>&lt;fct&gt;</th><th scope=col>&lt;lgl&gt;</th><th scope=col>&lt;lgl&gt;</th><th scope=col>&lt;lgl&gt;</th></tr>\n",
       "</thead>\n",
       "<tbody>\n",
       "\t<tr><td>egan-bernal       </td><td>NA</td><td>NA</td><td>NA</td></tr>\n",
       "\t<tr><td>geraint-thomas    </td><td>NA</td><td>NA</td><td>NA</td></tr>\n",
       "\t<tr><td>steven-kruijswijk </td><td>NA</td><td>NA</td><td>NA</td></tr>\n",
       "\t<tr><td>tom-dumoulin      </td><td>NA</td><td>NA</td><td>NA</td></tr>\n",
       "\t<tr><td>christopher-froome</td><td>NA</td><td>NA</td><td>NA</td></tr>\n",
       "\t<tr><td>rigoberto-uran    </td><td>NA</td><td>NA</td><td>NA</td></tr>\n",
       "\t<tr><td>romain-bardet     </td><td>NA</td><td>NA</td><td>NA</td></tr>\n",
       "\t<tr><td>nairo-quintana    </td><td>NA</td><td>NA</td><td>NA</td></tr>\n",
       "\t<tr><td>alejandro-valverde</td><td>NA</td><td>NA</td><td>NA</td></tr>\n",
       "\t<tr><td>vincenzo-nibali   </td><td>NA</td><td>NA</td><td>NA</td></tr>\n",
       "</tbody>\n",
       "</table>\n"
      ],
      "text/latex": [
       "A data.frame: 10 × 4\n",
       "\\begin{tabular}{r|llll}\n",
       " rider & birth & weight & height\\\\\n",
       " <fct> & <lgl> & <lgl> & <lgl>\\\\\n",
       "\\hline\n",
       "\t egan-bernal        & NA & NA & NA\\\\\n",
       "\t geraint-thomas     & NA & NA & NA\\\\\n",
       "\t steven-kruijswijk  & NA & NA & NA\\\\\n",
       "\t tom-dumoulin       & NA & NA & NA\\\\\n",
       "\t christopher-froome & NA & NA & NA\\\\\n",
       "\t rigoberto-uran     & NA & NA & NA\\\\\n",
       "\t romain-bardet      & NA & NA & NA\\\\\n",
       "\t nairo-quintana     & NA & NA & NA\\\\\n",
       "\t alejandro-valverde & NA & NA & NA\\\\\n",
       "\t vincenzo-nibali    & NA & NA & NA\\\\\n",
       "\\end{tabular}\n"
      ],
      "text/markdown": [
       "\n",
       "A data.frame: 10 × 4\n",
       "\n",
       "| rider &lt;fct&gt; | birth &lt;lgl&gt; | weight &lt;lgl&gt; | height &lt;lgl&gt; |\n",
       "|---|---|---|---|\n",
       "| egan-bernal        | NA | NA | NA |\n",
       "| geraint-thomas     | NA | NA | NA |\n",
       "| steven-kruijswijk  | NA | NA | NA |\n",
       "| tom-dumoulin       | NA | NA | NA |\n",
       "| christopher-froome | NA | NA | NA |\n",
       "| rigoberto-uran     | NA | NA | NA |\n",
       "| romain-bardet      | NA | NA | NA |\n",
       "| nairo-quintana     | NA | NA | NA |\n",
       "| alejandro-valverde | NA | NA | NA |\n",
       "| vincenzo-nibali    | NA | NA | NA |\n",
       "\n"
      ],
      "text/plain": [
       "   rider              birth weight height\n",
       "1  egan-bernal        NA    NA     NA    \n",
       "2  geraint-thomas     NA    NA     NA    \n",
       "3  steven-kruijswijk  NA    NA     NA    \n",
       "4  tom-dumoulin       NA    NA     NA    \n",
       "5  christopher-froome NA    NA     NA    \n",
       "6  rigoberto-uran     NA    NA     NA    \n",
       "7  romain-bardet      NA    NA     NA    \n",
       "8  nairo-quintana     NA    NA     NA    \n",
       "9  alejandro-valverde NA    NA     NA    \n",
       "10 vincenzo-nibali    NA    NA     NA    "
      ]
     },
     "metadata": {},
     "output_type": "display_data"
    }
   ],
   "source": [
    "all_riders_data <- data.frame(\"rider\" = (unique(tour_df_long$rider[!is.na(tour_df_long$rider)])),\n",
    "                         \"birth\" = NA,\n",
    "                         \"weight\" = NA,\n",
    "                         \"height\" = NA)\n",
    "head(all_riders_data, 10)"
   ]
  },
  {
   "cell_type": "markdown",
   "metadata": {},
   "source": [
    "Using their name in the table, I can make the URL of their profiles and retrieve the information from there and straight into the table.\n",
    "\n",
    "Height and weight are not always available."
   ]
  },
  {
   "cell_type": "code",
   "execution_count": 19,
   "metadata": {},
   "outputs": [],
   "source": [
    "for(i in 1:nrow(all_riders_data)){\n",
    "  #message(paste0(\"Rider \", i)) #This is only to know the progress\n",
    "    \n",
    "  pcs_rider_url <- paste0(\"https://www.procyclingstats.com/rider/\", all_riders_data[i,1])\n",
    "    \n",
    "  rider_data <- read_html(pcs_rider_url) %>%\n",
    "    html_nodes('.rdr-info-cont') %>%\n",
    "    html_text() %>%\n",
    "    unlist() %>%\n",
    "    strsplit(.,\"Date of birth: |Nationality: |Weight: |Height: | m\")\n",
    "  \n",
    "  all_riders_data[i,'birth'] <- rider_data[[1]][2] #Fill the fields in the DataFrame\n",
    "  all_riders_data[i,'weight'] <- rider_data[[1]][4]\n",
    "  all_riders_data[i,'height'] <- rider_data[[1]][5]\n",
    "  \n",
    "}"
   ]
  },
  {
   "cell_type": "code",
   "execution_count": 20,
   "metadata": {},
   "outputs": [
    {
     "data": {
      "text/html": [
       "<table>\n",
       "<caption>A data.frame: 20 × 4</caption>\n",
       "<thead>\n",
       "\t<tr><th scope=col>rider</th><th scope=col>birth</th><th scope=col>weight</th><th scope=col>height</th></tr>\n",
       "\t<tr><th scope=col>&lt;fct&gt;</th><th scope=col>&lt;chr&gt;</th><th scope=col>&lt;int&gt;</th><th scope=col>&lt;dbl&gt;</th></tr>\n",
       "</thead>\n",
       "<tbody>\n",
       "\t<tr><td>egan-bernal           </td><td>13th January 1997 (23) </td><td>60</td><td>1.75</td></tr>\n",
       "\t<tr><td>geraint-thomas        </td><td>25th May 1986 (33)     </td><td>71</td><td>1.83</td></tr>\n",
       "\t<tr><td>steven-kruijswijk     </td><td>7th June 1987 (32)     </td><td>63</td><td>1.78</td></tr>\n",
       "\t<tr><td>tom-dumoulin          </td><td>11th November 1990 (29)</td><td>69</td><td>1.85</td></tr>\n",
       "\t<tr><td>christopher-froome    </td><td>20th May 1985 (34)     </td><td>66</td><td>1.86</td></tr>\n",
       "\t<tr><td>rigoberto-uran        </td><td>26th January 1987 (33) </td><td>63</td><td>1.73</td></tr>\n",
       "\t<tr><td>romain-bardet         </td><td>9th November 1990 (29) </td><td>65</td><td>1.84</td></tr>\n",
       "\t<tr><td>nairo-quintana        </td><td>4th February 1990 (30) </td><td>59</td><td>1.67</td></tr>\n",
       "\t<tr><td>alejandro-valverde    </td><td>25th April 1980 (40)   </td><td>61</td><td>1.77</td></tr>\n",
       "\t<tr><td>vincenzo-nibali       </td><td>14th November 1984 (35)</td><td>65</td><td>1.81</td></tr>\n",
       "\t<tr><td>jean-christophe-peraud</td><td>22nd May 1977 (42)     </td><td>62</td><td>1.72</td></tr>\n",
       "\t<tr><td>thibaut-pinot         </td><td>29th May 1990 (29)     </td><td>63</td><td>1.80</td></tr>\n",
       "\t<tr><td>joaquim-rodriguez     </td><td>12th May 1979 (40)     </td><td>58</td><td>1.69</td></tr>\n",
       "\t<tr><td>bradley-wiggins       </td><td>28th April 1980 (40)   </td><td>76</td><td>1.89</td></tr>\n",
       "\t<tr><td>cadel-evans           </td><td>14th February 1977 (43)</td><td>64</td><td>1.74</td></tr>\n",
       "\t<tr><td>andy-schleck          </td><td>10th June 1985 (34)    </td><td>68</td><td>1.86</td></tr>\n",
       "\t<tr><td>frank-schleck         </td><td>15th April 1980 (40)   </td><td>65</td><td>1.86</td></tr>\n",
       "\t<tr><td>samuel-sanchez        </td><td>5th February 1978 (42) </td><td>65</td><td>1.75</td></tr>\n",
       "\t<tr><td>jurgen-van-den-broeck </td><td>1st February 1983 (37) </td><td>69</td><td>1.85</td></tr>\n",
       "\t<tr><td>alberto-contador      </td><td>6th December 1982 (37) </td><td>61</td><td>1.76</td></tr>\n",
       "</tbody>\n",
       "</table>\n"
      ],
      "text/latex": [
       "A data.frame: 20 × 4\n",
       "\\begin{tabular}{r|llll}\n",
       " rider & birth & weight & height\\\\\n",
       " <fct> & <chr> & <int> & <dbl>\\\\\n",
       "\\hline\n",
       "\t egan-bernal            & 13th January 1997 (23)  & 60 & 1.75\\\\\n",
       "\t geraint-thomas         & 25th May 1986 (33)      & 71 & 1.83\\\\\n",
       "\t steven-kruijswijk      & 7th June 1987 (32)      & 63 & 1.78\\\\\n",
       "\t tom-dumoulin           & 11th November 1990 (29) & 69 & 1.85\\\\\n",
       "\t christopher-froome     & 20th May 1985 (34)      & 66 & 1.86\\\\\n",
       "\t rigoberto-uran         & 26th January 1987 (33)  & 63 & 1.73\\\\\n",
       "\t romain-bardet          & 9th November 1990 (29)  & 65 & 1.84\\\\\n",
       "\t nairo-quintana         & 4th February 1990 (30)  & 59 & 1.67\\\\\n",
       "\t alejandro-valverde     & 25th April 1980 (40)    & 61 & 1.77\\\\\n",
       "\t vincenzo-nibali        & 14th November 1984 (35) & 65 & 1.81\\\\\n",
       "\t jean-christophe-peraud & 22nd May 1977 (42)      & 62 & 1.72\\\\\n",
       "\t thibaut-pinot          & 29th May 1990 (29)      & 63 & 1.80\\\\\n",
       "\t joaquim-rodriguez      & 12th May 1979 (40)      & 58 & 1.69\\\\\n",
       "\t bradley-wiggins        & 28th April 1980 (40)    & 76 & 1.89\\\\\n",
       "\t cadel-evans            & 14th February 1977 (43) & 64 & 1.74\\\\\n",
       "\t andy-schleck           & 10th June 1985 (34)     & 68 & 1.86\\\\\n",
       "\t frank-schleck          & 15th April 1980 (40)    & 65 & 1.86\\\\\n",
       "\t samuel-sanchez         & 5th February 1978 (42)  & 65 & 1.75\\\\\n",
       "\t jurgen-van-den-broeck  & 1st February 1983 (37)  & 69 & 1.85\\\\\n",
       "\t alberto-contador       & 6th December 1982 (37)  & 61 & 1.76\\\\\n",
       "\\end{tabular}\n"
      ],
      "text/markdown": [
       "\n",
       "A data.frame: 20 × 4\n",
       "\n",
       "| rider &lt;fct&gt; | birth &lt;chr&gt; | weight &lt;int&gt; | height &lt;dbl&gt; |\n",
       "|---|---|---|---|\n",
       "| egan-bernal            | 13th January 1997 (23)  | 60 | 1.75 |\n",
       "| geraint-thomas         | 25th May 1986 (33)      | 71 | 1.83 |\n",
       "| steven-kruijswijk      | 7th June 1987 (32)      | 63 | 1.78 |\n",
       "| tom-dumoulin           | 11th November 1990 (29) | 69 | 1.85 |\n",
       "| christopher-froome     | 20th May 1985 (34)      | 66 | 1.86 |\n",
       "| rigoberto-uran         | 26th January 1987 (33)  | 63 | 1.73 |\n",
       "| romain-bardet          | 9th November 1990 (29)  | 65 | 1.84 |\n",
       "| nairo-quintana         | 4th February 1990 (30)  | 59 | 1.67 |\n",
       "| alejandro-valverde     | 25th April 1980 (40)    | 61 | 1.77 |\n",
       "| vincenzo-nibali        | 14th November 1984 (35) | 65 | 1.81 |\n",
       "| jean-christophe-peraud | 22nd May 1977 (42)      | 62 | 1.72 |\n",
       "| thibaut-pinot          | 29th May 1990 (29)      | 63 | 1.80 |\n",
       "| joaquim-rodriguez      | 12th May 1979 (40)      | 58 | 1.69 |\n",
       "| bradley-wiggins        | 28th April 1980 (40)    | 76 | 1.89 |\n",
       "| cadel-evans            | 14th February 1977 (43) | 64 | 1.74 |\n",
       "| andy-schleck           | 10th June 1985 (34)     | 68 | 1.86 |\n",
       "| frank-schleck          | 15th April 1980 (40)    | 65 | 1.86 |\n",
       "| samuel-sanchez         | 5th February 1978 (42)  | 65 | 1.75 |\n",
       "| jurgen-van-den-broeck  | 1st February 1983 (37)  | 69 | 1.85 |\n",
       "| alberto-contador       | 6th December 1982 (37)  | 61 | 1.76 |\n",
       "\n"
      ],
      "text/plain": [
       "   rider                  birth                   weight height\n",
       "1  egan-bernal            13th January 1997 (23)  60     1.75  \n",
       "2  geraint-thomas         25th May 1986 (33)      71     1.83  \n",
       "3  steven-kruijswijk      7th June 1987 (32)      63     1.78  \n",
       "4  tom-dumoulin           11th November 1990 (29) 69     1.85  \n",
       "5  christopher-froome     20th May 1985 (34)      66     1.86  \n",
       "6  rigoberto-uran         26th January 1987 (33)  63     1.73  \n",
       "7  romain-bardet          9th November 1990 (29)  65     1.84  \n",
       "8  nairo-quintana         4th February 1990 (30)  59     1.67  \n",
       "9  alejandro-valverde     25th April 1980 (40)    61     1.77  \n",
       "10 vincenzo-nibali        14th November 1984 (35) 65     1.81  \n",
       "11 jean-christophe-peraud 22nd May 1977 (42)      62     1.72  \n",
       "12 thibaut-pinot          29th May 1990 (29)      63     1.80  \n",
       "13 joaquim-rodriguez      12th May 1979 (40)      58     1.69  \n",
       "14 bradley-wiggins        28th April 1980 (40)    76     1.89  \n",
       "15 cadel-evans            14th February 1977 (43) 64     1.74  \n",
       "16 andy-schleck           10th June 1985 (34)     68     1.86  \n",
       "17 frank-schleck          15th April 1980 (40)    65     1.86  \n",
       "18 samuel-sanchez         5th February 1978 (42)  65     1.75  \n",
       "19 jurgen-van-den-broeck  1st February 1983 (37)  69     1.85  \n",
       "20 alberto-contador       6th December 1982 (37)  61     1.76  "
      ]
     },
     "metadata": {},
     "output_type": "display_data"
    }
   ],
   "source": [
    "# A bit of extra cleaning and format changes\n",
    "riders_data_clean <- all_riders_data[str_detect(all_riders_data$weight, \"kg\"), ] %>% na.omit() #Remove those without weight and height data\n",
    "riders_data_clean$weight <- riders_data_clean$weight %>% str_trim() %>% sub(\" kg\", \"\", .) %>% as.integer()\n",
    "riders_data_clean$height <- riders_data_clean$height %>% as.numeric()\n",
    "\n",
    "head(riders_data_clean, 20)"
   ]
  },
  {
   "cell_type": "markdown",
   "metadata": {},
   "source": [
    "### Finally, combine both tables and plot it"
   ]
  },
  {
   "cell_type": "code",
   "execution_count": 23,
   "metadata": {},
   "outputs": [
    {
     "name": "stderr",
     "output_type": "stream",
     "text": [
      "Joining, by = \"rider\"\n",
      "\n",
      "Warning message:\n",
      "\"Column `rider` joining character vector and factor, coercing into character vector\"\n"
     ]
    },
    {
     "data": {
      "text/html": [
       "<table>\n",
       "<caption>A tibble: 18 × 6</caption>\n",
       "<thead>\n",
       "\t<tr><th scope=col>year</th><th scope=col>position</th><th scope=col>rider</th><th scope=col>birth</th><th scope=col>weight</th><th scope=col>height</th></tr>\n",
       "\t<tr><th scope=col>&lt;dbl&gt;</th><th scope=col>&lt;chr&gt;</th><th scope=col>&lt;chr&gt;</th><th scope=col>&lt;chr&gt;</th><th scope=col>&lt;int&gt;</th><th scope=col>&lt;dbl&gt;</th></tr>\n",
       "</thead>\n",
       "<tbody>\n",
       "\t<tr><td>2019</td><td>1st</td><td>egan-bernal           </td><td>13th January 1997 (23) </td><td>60</td><td>1.75</td></tr>\n",
       "\t<tr><td>2019</td><td>2nd</td><td>geraint-thomas        </td><td>25th May 1986 (33)     </td><td>71</td><td>1.83</td></tr>\n",
       "\t<tr><td>2019</td><td>3rd</td><td>steven-kruijswijk     </td><td>7th June 1987 (32)     </td><td>63</td><td>1.78</td></tr>\n",
       "\t<tr><td>2018</td><td>1st</td><td>geraint-thomas        </td><td>25th May 1986 (33)     </td><td>71</td><td>1.83</td></tr>\n",
       "\t<tr><td>2018</td><td>2nd</td><td>tom-dumoulin          </td><td>11th November 1990 (29)</td><td>69</td><td>1.85</td></tr>\n",
       "\t<tr><td>2018</td><td>3rd</td><td>christopher-froome    </td><td>20th May 1985 (34)     </td><td>66</td><td>1.86</td></tr>\n",
       "\t<tr><td>2017</td><td>1st</td><td>christopher-froome    </td><td>20th May 1985 (34)     </td><td>66</td><td>1.86</td></tr>\n",
       "\t<tr><td>2017</td><td>2nd</td><td>rigoberto-uran        </td><td>26th January 1987 (33) </td><td>63</td><td>1.73</td></tr>\n",
       "\t<tr><td>2017</td><td>3rd</td><td>romain-bardet         </td><td>9th November 1990 (29) </td><td>65</td><td>1.84</td></tr>\n",
       "\t<tr><td>2016</td><td>1st</td><td>christopher-froome    </td><td>20th May 1985 (34)     </td><td>66</td><td>1.86</td></tr>\n",
       "\t<tr><td>2016</td><td>2nd</td><td>romain-bardet         </td><td>9th November 1990 (29) </td><td>65</td><td>1.84</td></tr>\n",
       "\t<tr><td>2016</td><td>3rd</td><td>nairo-quintana        </td><td>4th February 1990 (30) </td><td>59</td><td>1.67</td></tr>\n",
       "\t<tr><td>2015</td><td>1st</td><td>christopher-froome    </td><td>20th May 1985 (34)     </td><td>66</td><td>1.86</td></tr>\n",
       "\t<tr><td>2015</td><td>2nd</td><td>nairo-quintana        </td><td>4th February 1990 (30) </td><td>59</td><td>1.67</td></tr>\n",
       "\t<tr><td>2015</td><td>3rd</td><td>alejandro-valverde    </td><td>25th April 1980 (40)   </td><td>61</td><td>1.77</td></tr>\n",
       "\t<tr><td>2014</td><td>1st</td><td>vincenzo-nibali       </td><td>14th November 1984 (35)</td><td>65</td><td>1.81</td></tr>\n",
       "\t<tr><td>2014</td><td>2nd</td><td>jean-christophe-peraud</td><td>22nd May 1977 (42)     </td><td>62</td><td>1.72</td></tr>\n",
       "\t<tr><td>2014</td><td>3rd</td><td>thibaut-pinot         </td><td>29th May 1990 (29)     </td><td>63</td><td>1.80</td></tr>\n",
       "</tbody>\n",
       "</table>\n"
      ],
      "text/latex": [
       "A tibble: 18 × 6\n",
       "\\begin{tabular}{r|llllll}\n",
       " year & position & rider & birth & weight & height\\\\\n",
       " <dbl> & <chr> & <chr> & <chr> & <int> & <dbl>\\\\\n",
       "\\hline\n",
       "\t 2019 & 1st & egan-bernal            & 13th January 1997 (23)  & 60 & 1.75\\\\\n",
       "\t 2019 & 2nd & geraint-thomas         & 25th May 1986 (33)      & 71 & 1.83\\\\\n",
       "\t 2019 & 3rd & steven-kruijswijk      & 7th June 1987 (32)      & 63 & 1.78\\\\\n",
       "\t 2018 & 1st & geraint-thomas         & 25th May 1986 (33)      & 71 & 1.83\\\\\n",
       "\t 2018 & 2nd & tom-dumoulin           & 11th November 1990 (29) & 69 & 1.85\\\\\n",
       "\t 2018 & 3rd & christopher-froome     & 20th May 1985 (34)      & 66 & 1.86\\\\\n",
       "\t 2017 & 1st & christopher-froome     & 20th May 1985 (34)      & 66 & 1.86\\\\\n",
       "\t 2017 & 2nd & rigoberto-uran         & 26th January 1987 (33)  & 63 & 1.73\\\\\n",
       "\t 2017 & 3rd & romain-bardet          & 9th November 1990 (29)  & 65 & 1.84\\\\\n",
       "\t 2016 & 1st & christopher-froome     & 20th May 1985 (34)      & 66 & 1.86\\\\\n",
       "\t 2016 & 2nd & romain-bardet          & 9th November 1990 (29)  & 65 & 1.84\\\\\n",
       "\t 2016 & 3rd & nairo-quintana         & 4th February 1990 (30)  & 59 & 1.67\\\\\n",
       "\t 2015 & 1st & christopher-froome     & 20th May 1985 (34)      & 66 & 1.86\\\\\n",
       "\t 2015 & 2nd & nairo-quintana         & 4th February 1990 (30)  & 59 & 1.67\\\\\n",
       "\t 2015 & 3rd & alejandro-valverde     & 25th April 1980 (40)    & 61 & 1.77\\\\\n",
       "\t 2014 & 1st & vincenzo-nibali        & 14th November 1984 (35) & 65 & 1.81\\\\\n",
       "\t 2014 & 2nd & jean-christophe-peraud & 22nd May 1977 (42)      & 62 & 1.72\\\\\n",
       "\t 2014 & 3rd & thibaut-pinot          & 29th May 1990 (29)      & 63 & 1.80\\\\\n",
       "\\end{tabular}\n"
      ],
      "text/markdown": [
       "\n",
       "A tibble: 18 × 6\n",
       "\n",
       "| year &lt;dbl&gt; | position &lt;chr&gt; | rider &lt;chr&gt; | birth &lt;chr&gt; | weight &lt;int&gt; | height &lt;dbl&gt; |\n",
       "|---|---|---|---|---|---|\n",
       "| 2019 | 1st | egan-bernal            | 13th January 1997 (23)  | 60 | 1.75 |\n",
       "| 2019 | 2nd | geraint-thomas         | 25th May 1986 (33)      | 71 | 1.83 |\n",
       "| 2019 | 3rd | steven-kruijswijk      | 7th June 1987 (32)      | 63 | 1.78 |\n",
       "| 2018 | 1st | geraint-thomas         | 25th May 1986 (33)      | 71 | 1.83 |\n",
       "| 2018 | 2nd | tom-dumoulin           | 11th November 1990 (29) | 69 | 1.85 |\n",
       "| 2018 | 3rd | christopher-froome     | 20th May 1985 (34)      | 66 | 1.86 |\n",
       "| 2017 | 1st | christopher-froome     | 20th May 1985 (34)      | 66 | 1.86 |\n",
       "| 2017 | 2nd | rigoberto-uran         | 26th January 1987 (33)  | 63 | 1.73 |\n",
       "| 2017 | 3rd | romain-bardet          | 9th November 1990 (29)  | 65 | 1.84 |\n",
       "| 2016 | 1st | christopher-froome     | 20th May 1985 (34)      | 66 | 1.86 |\n",
       "| 2016 | 2nd | romain-bardet          | 9th November 1990 (29)  | 65 | 1.84 |\n",
       "| 2016 | 3rd | nairo-quintana         | 4th February 1990 (30)  | 59 | 1.67 |\n",
       "| 2015 | 1st | christopher-froome     | 20th May 1985 (34)      | 66 | 1.86 |\n",
       "| 2015 | 2nd | nairo-quintana         | 4th February 1990 (30)  | 59 | 1.67 |\n",
       "| 2015 | 3rd | alejandro-valverde     | 25th April 1980 (40)    | 61 | 1.77 |\n",
       "| 2014 | 1st | vincenzo-nibali        | 14th November 1984 (35) | 65 | 1.81 |\n",
       "| 2014 | 2nd | jean-christophe-peraud | 22nd May 1977 (42)      | 62 | 1.72 |\n",
       "| 2014 | 3rd | thibaut-pinot          | 29th May 1990 (29)      | 63 | 1.80 |\n",
       "\n"
      ],
      "text/plain": [
       "   year position rider                  birth                   weight height\n",
       "1  2019 1st      egan-bernal            13th January 1997 (23)  60     1.75  \n",
       "2  2019 2nd      geraint-thomas         25th May 1986 (33)      71     1.83  \n",
       "3  2019 3rd      steven-kruijswijk      7th June 1987 (32)      63     1.78  \n",
       "4  2018 1st      geraint-thomas         25th May 1986 (33)      71     1.83  \n",
       "5  2018 2nd      tom-dumoulin           11th November 1990 (29) 69     1.85  \n",
       "6  2018 3rd      christopher-froome     20th May 1985 (34)      66     1.86  \n",
       "7  2017 1st      christopher-froome     20th May 1985 (34)      66     1.86  \n",
       "8  2017 2nd      rigoberto-uran         26th January 1987 (33)  63     1.73  \n",
       "9  2017 3rd      romain-bardet          9th November 1990 (29)  65     1.84  \n",
       "10 2016 1st      christopher-froome     20th May 1985 (34)      66     1.86  \n",
       "11 2016 2nd      romain-bardet          9th November 1990 (29)  65     1.84  \n",
       "12 2016 3rd      nairo-quintana         4th February 1990 (30)  59     1.67  \n",
       "13 2015 1st      christopher-froome     20th May 1985 (34)      66     1.86  \n",
       "14 2015 2nd      nairo-quintana         4th February 1990 (30)  59     1.67  \n",
       "15 2015 3rd      alejandro-valverde     25th April 1980 (40)    61     1.77  \n",
       "16 2014 1st      vincenzo-nibali        14th November 1984 (35) 65     1.81  \n",
       "17 2014 2nd      jean-christophe-peraud 22nd May 1977 (42)      62     1.72  \n",
       "18 2014 3rd      thibaut-pinot          29th May 1990 (29)      63     1.80  "
      ]
     },
     "metadata": {},
     "output_type": "display_data"
    }
   ],
   "source": [
    "# Left join on the results DataFrame (tour_df_long)\n",
    "# This means taking the results DF as reference and add the matching information from riders' DF into it\n",
    "tour_final <- left_join(tour_df_long, riders_data_clean)\n",
    "tour_final$year <- tour_final$year %>% as.character() %>% as.numeric()\n",
    "\n",
    "head(tour_final, 18)"
   ]
  },
  {
   "cell_type": "markdown",
   "metadata": {},
   "source": [
    "And now, time to plot it!"
   ]
  },
  {
   "cell_type": "code",
   "execution_count": 24,
   "metadata": {},
   "outputs": [
    {
     "data": {
      "image/png": "[encoded data removed]",
      "text/plain": [
       "plot without title"
      ]
     },
     "metadata": {
      "image/png": {
       "height": 420,
       "width": 420
      },
      "text/plain": {
       "height": 420,
       "width": 420
      }
     },
     "output_type": "display_data"
    }
   ],
   "source": [
    "tour_final %>% na.omit() %>%\n",
    "  ggplot(aes(x=weight, y=height, color=position))+\n",
    "    geom_point(size=3.5, position = position_jitter(width = 0.5, height = 0.01))+ #A bit of jitter to avoid full overlap between points\n",
    "    scale_color_manual(values=c(\"1st\" = \"goldenrod\", \"2nd\"=\"gray70\",\"3rd\"=\"firebrick\"))+\n",
    "    geom_hline(yintercept = mean(na.omit(tour_final$height)))+\n",
    "    geom_vline(xintercept = mean(na.omit(tour_final$weight)))+\n",
    "    ylim(1.60, 1.95)+\n",
    "    theme_minimal()+\n",
    "    labs(x = \"Rider weight (kg)\", y=\"Rider height (m)\", title = \"Tour de France height and weight of top 3 riders\")\n",
    " "
   ]
  },
  {
   "cell_type": "markdown",
   "metadata": {},
   "source": [
    "And the code for the animated version"
   ]
  },
  {
   "cell_type": "code",
   "execution_count": 27,
   "metadata": {},
   "outputs": [],
   "source": [
    "tour_final %>% na.omit() %>%\n",
    "  ggplot(aes(x=weight, y=height, color=position))+\n",
    "    geom_point(size=3.5, position = position_jitter(width = 0.5, height = 0.005))+\n",
    "    scale_color_manual(values=c(\"1st\" = \"goldenrod\", \"2nd\"=\"gray70\",\"3rd\"=\"firebrick\"))+\n",
    "    geom_hline(yintercept = mean(na.omit(tour_final$height)))+\n",
    "    geom_vline(xintercept = mean(na.omit(tour_final$weight)))+\n",
    "    ylim(1.60, 1.95)+\n",
    "    theme_minimal()+\n",
    "    transition_states(year, transition_length = 3, state_length = 3)+\n",
    "    labs(x = \"Rider weight (kg)\", y=\"Rider height (m)\", title = \"Tour de France height and weight of top 3 riders. Year: {closest_state}\")+\n",
    "    shadow_mark() -> p\n",
    "\n",
    "podium_animation <- animate(p)\n",
    "anim_save(\"tour_data.gif\", podium_animation)"
   ]
  },
  {
   "cell_type": "markdown",
   "metadata": {},
   "source": [
    "## Final comments:\n",
    "\n",
    "- As expected, there isn't a especific body size that leads to success. Different eras were dominated by different types of riders  \n",
    "- Rider's data is based on their documented data on Pro Cycling Stats, but does not reflect changes over time (for example if a rider gained or lost weight form one year to another). Also, variation between very close point is ficticious, created randomly by the jitter effect to help visualize overlapping points. This is clear in the Indurain data (top-righ golden points), where it seems from the plot like he changed his height between years.  \n",
    "- Changes over time in the body type can imply differences in the course, favouring different types of riders. But it might as well be an artifact of the dominant riders of each time(like Anquetil, Hinault, Merckx, Indurain,...).\n",
    "\n",
    "\n",
    "At the end of the day, this was made just for fun, good practice and love for cycling.  \n",
    "Have a good ride."
   ]
  }
 ],
 "metadata": {
  "kernelspec": {
   "display_name": "R",
   "language": "R",
   "name": "ir"
  },
  "language_info": {
   "codemirror_mode": "r",
   "file_extension": ".r",
   "mimetype": "text/x-r-source",
   "name": "R",
   "pygments_lexer": "r",
   "version": "3.5.2"
  }
 },
 "nbformat": 4,
 "nbformat_minor": 2
}
